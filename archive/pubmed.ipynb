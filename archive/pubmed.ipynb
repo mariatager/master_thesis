{
 "cells": [
  {
   "cell_type": "code",
   "execution_count": 1,
   "metadata": {},
   "outputs": [
    {
     "name": "stdout",
     "output_type": "stream",
     "text": [
      "Collecting biopython\n",
      "  Downloading biopython-1.83.tar.gz (19.4 MB)\n",
      "\u001b[2K     \u001b[90m━━━━━━━━━━━━━━━━━━━━━━━━━━━━━━━━━━━━━━━━\u001b[0m \u001b[32m19.4/19.4 MB\u001b[0m \u001b[31m7.5 MB/s\u001b[0m eta \u001b[36m0:00:00\u001b[0m00:01\u001b[0m00:01\u001b[0m\n",
      "\u001b[?25h  Preparing metadata (setup.py) ... \u001b[?25ldone\n",
      "\u001b[?25hRequirement already satisfied: numpy in /usr/local/lib/python3.8/site-packages (from biopython) (1.24.4)\n",
      "Building wheels for collected packages: biopython\n",
      "  Building wheel for biopython (setup.py) ... \u001b[?25ldone\n",
      "\u001b[?25h  Created wheel for biopython: filename=biopython-1.83-cp38-cp38-linux_aarch64.whl size=2692682 sha256=ad8c0e646b7606b226cf7f80eadf76028349f8c5f7b9361c69dd2ccd18530a6a\n",
      "  Stored in directory: /root/.cache/pip/wheels/b7/71/b8/ddd94db6bfab84bc0015d99df08b9d481ec177631e1f03c815\n",
      "Successfully built biopython\n",
      "Installing collected packages: biopython\n",
      "Successfully installed biopython-1.83\n",
      "\u001b[33mWARNING: Running pip as the 'root' user can result in broken permissions and conflicting behaviour with the system package manager, possibly rendering your system unusable.It is recommended to use a virtual environment instead: https://pip.pypa.io/warnings/venv. Use the --root-user-action option if you know what you are doing and want to suppress this warning.\u001b[0m\u001b[33m\n",
      "\u001b[0m"
     ]
    }
   ],
   "source": [
    "!pip install biopython"
   ]
  },
  {
   "cell_type": "code",
   "execution_count": 2,
   "metadata": {},
   "outputs": [],
   "source": [
    "from Bio import Entrez\n",
    "\n",
    "# Set up your email for NCBI Entrez API\n",
    "Entrez.email = \"your_email@example.com\"\n",
    "\n",
    "def fetch_pubmed_abstracts(query, max_results=100):\n",
    "    \"\"\"\n",
    "    Fetches PubMed abstracts for the given query.\n",
    "    Args:\n",
    "        query (str): Search query for PubMed.\n",
    "        max_results (int): Maximum number of results to fetch.\n",
    "    Returns:\n",
    "        str: A concatenated string of all abstracts retrieved.\n",
    "    \"\"\"\n",
    "    print(f\"Fetching PubMed abstracts for query: '{query}'...\")\n",
    "    handle = Entrez.esearch(db=\"pubmed\", term=query, retmax=max_results)\n",
    "    record = Entrez.read(handle)\n",
    "    handle.close()\n",
    "\n",
    "    ids = record[\"IdList\"]\n",
    "    if not ids:\n",
    "        print(\"No results found!\")\n",
    "        return \"\"\n",
    "\n",
    "    # Fetch the summaries and abstracts\n",
    "    handle = Entrez.efetch(db=\"pubmed\", id=ids, rettype=\"abstract\", retmode=\"text\")\n",
    "    abstracts = handle.read()\n",
    "    handle.close()\n",
    "\n",
    "    return abstracts\n",
    "\n",
    "def save_corpus_to_file(corpus, filename):\n",
    "    \"\"\"\n",
    "    Saves the corpus of abstracts to a local file.\n",
    "    Args:\n",
    "        corpus (str): The text corpus to save.\n",
    "        filename (str): The file name to save the corpus.\n",
    "    \"\"\"\n",
    "    with open(filename, \"w\", encoding=\"utf-8\") as file:\n",
    "        file.write(corpus)\n",
    "    print(f\"Corpus saved to '{filename}'\")\n"
   ]
  },
  {
   "cell_type": "code",
   "execution_count": 3,
   "metadata": {},
   "outputs": [
    {
     "name": "stdout",
     "output_type": "stream",
     "text": [
      "Fetching PubMed abstracts for query: 'cancer classification'...\n",
      "Corpus saved to 'pubmed_cancer_corpus.txt'\n"
     ]
    }
   ],
   "source": [
    "# Define the search query and the maximum number of results\n",
    "query = \"cancer classification\"\n",
    "max_results = 1000  # Adjust as needed\n",
    "\n",
    "# Fetch PubMed abstracts\n",
    "corpus = fetch_pubmed_abstracts(query, max_results)\n",
    "\n",
    "if corpus:\n",
    "    # Save the corpus to a local file\n",
    "    save_corpus_to_file(corpus, \"pubmed_cancer_corpus.txt\")"
   ]
  }
 ],
 "metadata": {
  "kernelspec": {
   "display_name": "Python 3 (ipykernel)",
   "language": "python",
   "name": "python3"
  },
  "language_info": {
   "codemirror_mode": {
    "name": "ipython",
    "version": 3
   },
   "file_extension": ".py",
   "mimetype": "text/x-python",
   "name": "python",
   "nbconvert_exporter": "python",
   "pygments_lexer": "ipython3",
   "version": "3.8.5"
  },
  "orig_nbformat": 4
 },
 "nbformat": 4,
 "nbformat_minor": 2
}
